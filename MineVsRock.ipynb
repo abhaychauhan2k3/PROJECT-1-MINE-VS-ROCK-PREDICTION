{
  "nbformat": 4,
  "nbformat_minor": 0,
  "metadata": {
    "colab": {
      "provenance": []
    },
    "kernelspec": {
      "name": "python3",
      "display_name": "Python 3"
    },
    "language_info": {
      "name": "python"
    }
  },
  "cells": [
    {
      "cell_type": "code",
      "execution_count": 6,
      "metadata": {
        "id": "ELScRfS0DzaZ"
      },
      "outputs": [],
      "source": [
        "!git config --global user.email \"abhay0123chauhan@gmail.com\"\n",
        "!git config --global user.name \"abhaychauhan2k3\""
      ]
    },
    {
      "cell_type": "code",
      "source": [
        "!git clone https://github.com/abhaychauhan2k3/PROJECT-1-MINE-VS-ROCK-PREDICTION"
      ],
      "metadata": {
        "colab": {
          "base_uri": "https://localhost:8080/"
        },
        "id": "MPgrh4aZEaNu",
        "outputId": "177585b4-4213-4f1f-c28a-f898cd62abb3"
      },
      "execution_count": 5,
      "outputs": [
        {
          "output_type": "stream",
          "name": "stdout",
          "text": [
            "Cloning into 'PROJECT-1-MINE-VS-ROCK-PREDICTION'...\n",
            "warning: You appear to have cloned an empty repository.\n"
          ]
        }
      ]
    },
    {
      "cell_type": "code",
      "source": [
        "!cp /content/MineVsRock.ipynb /content/PROJECT-1-MINE-VS-ROCK-PREDICTION\n",
        "!cp /content/sonar_data.csv /content/PROJECT-1-MINE-VS-ROCK-PREDICTION"
      ],
      "metadata": {
        "colab": {
          "base_uri": "https://localhost:8080/"
        },
        "id": "u1cnfwipEufU",
        "outputId": "151de8d0-4adb-4ce4-ddad-c85af40cefbf"
      },
      "execution_count": 17,
      "outputs": [
        {
          "output_type": "stream",
          "name": "stdout",
          "text": [
            "cp: cannot stat '/content/MineVsRock.ipynb': No such file or directory\n"
          ]
        }
      ]
    },
    {
      "cell_type": "code",
      "source": [],
      "metadata": {
        "id": "hYX7Ze5JyP9O"
      },
      "execution_count": null,
      "outputs": []
    }
  ]
}